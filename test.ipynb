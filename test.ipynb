{
 "cells": [
  {
   "cell_type": "code",
   "execution_count": 3,
   "metadata": {},
   "outputs": [
    {
     "name": "stdout",
     "output_type": "stream",
     "text": [
      "Defaulting to user installation because normal site-packages is not writeable\n",
      "Collecting openpyxl\n",
      "  Downloading openpyxl-3.1.4-py2.py3-none-any.whl.metadata (2.5 kB)\n",
      "Collecting et-xmlfile (from openpyxl)\n",
      "  Downloading et_xmlfile-1.1.0-py3-none-any.whl.metadata (1.8 kB)\n",
      "Downloading openpyxl-3.1.4-py2.py3-none-any.whl (251 kB)\n",
      "   ---------------------------------------- 0.0/251.4 kB ? eta -:--:--\n",
      "   ---------------------------------------- 0.0/251.4 kB ? eta -:--:--\n",
      "   ---- ---------------------------------- 30.7/251.4 kB 435.7 kB/s eta 0:00:01\n",
      "   ------------ -------------------------- 81.9/251.4 kB 762.6 kB/s eta 0:00:01\n",
      "   ---------------------------------------  245.8/251.4 kB 1.9 MB/s eta 0:00:01\n",
      "   ---------------------------------------- 251.4/251.4 kB 1.5 MB/s eta 0:00:00\n",
      "Downloading et_xmlfile-1.1.0-py3-none-any.whl (4.7 kB)\n",
      "Installing collected packages: et-xmlfile, openpyxl\n",
      "Successfully installed et-xmlfile-1.1.0 openpyxl-3.1.4\n",
      "Note: you may need to restart the kernel to use updated packages.\n"
     ]
    },
    {
     "name": "stderr",
     "output_type": "stream",
     "text": [
      "\n",
      "[notice] A new release of pip is available: 24.0 -> 24.1.1\n",
      "[notice] To update, run: C:\\Users\\darkn\\AppData\\Local\\Microsoft\\WindowsApps\\PythonSoftwareFoundation.Python.3.12_qbz5n2kfra8p0\\python.exe -m pip install --upgrade pip\n"
     ]
    }
   ],
   "source": [
    "pip install openpyxl"
   ]
  },
  {
   "cell_type": "code",
   "execution_count": 1,
   "metadata": {},
   "outputs": [
    {
     "name": "stdout",
     "output_type": "stream",
     "text": [
      "Column names in the DataFrame: ['S.NO', 'Roll No', 'Name', 'Branch', 'DIGNITY  OF LABOUR\\n\\n\\n', 'PULAWAMA \\nATTACK\\n\\n', 'ROAD SAFETY\\n\\n\\n\\n', 'MENSUTRAL \\nHYGIENE\\n\\n', 'TUBERCULOSIS\\nAWARENESS\\n\\n', 'BUTTERMILK \\nSUPPLY\\n\\n', 'AU CONVECTION', 'SEMINAR ON WORLD\\nENVIRONMENT DAY\\n\\n', 'SEMINAR AND QUIZ ON \\nBIODIVERSITY AND GLOBAL \\nWARMING\\n\\n', 'INTERNATIONAL\\n DAY OF YOGA\\n\\n', 'SEMINAR ON ONE\\nSTUDENT ONE TREE\\n\\n', 'ORIENTATION AND AIMS\\n AND OBJECTIVES OF UBA', 'AWARENESS ON DRUG USAGE\\n', 'KAPULAPPADA PLANTATION EVENT', 'EK THAREEK EK GHANTA \\nEVENT', 'NSS Campaign', 'EVENT PLANING', 'NATIONAL FARMERS DAY', 'YOUTH DAY \\nCELEBRATIONS', 'SPECIAL \\nCAMP DAY 1\\nINAGURATION \\nAND SURVEY', 'SPECIAL CAMP \\nDAY 2\\n', 'SPECIAL \\nCAMP DAY 3', 'SPECIAL CAMP \\nDAY 4', 'SPECIAL CAMP DAY 5', 'SPECIAL CAMP DAY 6', 'SPECIAL CAMP DAY 7', 'CANCER EVENT', 'BLOOD DONATION', 'Unnamed: 32', 'Unnamed: 33', 'TOTAL', 'Miscellaneous\\nDOCUMENTATION', 'Miscellaneous\\nPHOTOGRAPHY', 'WEB DEVELOPMENT', 'POSTER', 'OTHER', 'Miscellaneous\\ntotal', 'TOTAL REGULAR ACTIVITIES', 'Unnamed: 42', 'Unnamed: 43']\n"
     ]
    }
   ],
   "source": [
    "import pandas as pd\n",
    "import os\n",
    "\n",
    "output_directory = './OUTPUT WORK'\n",
    "# Read the CSV file into a DataFrame\n",
    "df = pd.read_csv(r\"C:\\Users\\darkn\\OneDrive\\##OUTOFBOX\\Xcel Work\\NSS ATTENDANCE LIST 2022-2024csv.csv\")\n",
    "\n",
    "# Get the list of column names\n",
    "column_names = df.columns.tolist()\n",
    "print(\"Column names in the DataFrame:\", column_names)\n",
    "\n",
    "# Essential columns\n",
    "essential_columns = ['S.NO','Roll No', 'Name', 'Branch']\n",
    "\n",
    "# Columns to be processed\n",
    "columns_req = [col for col in column_names if col not in essential_columns]\n",
    "\n",
    "\n",
    "trans_table = str.maketrans(\" \\n\", \"__\")\n",
    "# Process each column in columns_req\n",
    "for col in columns_req:\n",
    "    # Check if the column exists in the DataFrame\n",
    "    if col in df.columns:\n",
    "        # Create a new DataFrame with essential columns and the current column\n",
    "        r = essential_columns + [col]\n",
    "        df1 = df[r]\n",
    "        \n",
    "        # Drop rows with NaN values\n",
    "        df_final = df1.dropna()\n",
    "        df_final = df_final.drop(columns=[col])\n",
    "        # print(df_final)\n",
    "        \n",
    "        # Specify the directory where you want to save the file\n",
    "\n",
    "\n",
    "# Construct the full path including the directory and the filename\n",
    "\n",
    "        # Create the filename based on the column name\n",
    "        output_file = f\"{col.translate(trans_table)}.xlsx\"\n",
    "        output_file_path = os.path.join(output_directory, output_file)\n",
    "        \n",
    "        # Export the DataFrame to an Excel file\n",
    "        df_final.to_excel(output_file_path, index=False)\n",
    "        \n",
    "       \n"
   ]
  },
  {
   "cell_type": "code",
   "execution_count": null,
   "metadata": {},
   "outputs": [],
   "source": []
  },
  {
   "cell_type": "code",
   "execution_count": 14,
   "metadata": {},
   "outputs": [
    {
     "name": "stdout",
     "output_type": "stream",
     "text": [
      "Column names in the DataFrame: ['S.NO', 'Roll No', 'Name', 'Branch', 'DIGNITY  OF LABOUR\\n\\n\\n', 'PULAWAMA \\nATTACK\\n\\n', 'ROAD SAFETY\\n\\n\\n\\n', 'MENSUTRAL \\nHYGIENE\\n\\n', 'TUBERCULOSIS\\nAWARENESS\\n\\n', 'BUTTERMILK \\nSUPPLY\\n\\n', 'AU CONVECTION', 'SEMINAR ON WORLD\\nENVIRONMENT DAY\\n\\n', 'SEMINAR AND QUIZ ON \\nBIODIVERSITY AND GLOBAL \\nWARMING\\n\\n', 'INTERNATIONAL\\n DAY OF YOGA\\n\\n', 'SEMINAR ON ONE\\nSTUDENT ONE TREE\\n\\n', 'ORIENTATION AND AIMS\\n AND OBJECTIVES OF UBA', 'AWARENESS ON DRUG USAGE\\n', 'KAPULAPPADA PLANTATION EVENT', 'EK THAREEK EK GHANTA \\nEVENT', 'NSS Campaign', 'EVENT PLANING', 'NATIONAL FARMERS DAY', 'YOUTH DAY \\nCELEBRATIONS', 'SPECIAL \\nCAMP DAY 1\\nINAGURATION \\nAND SURVEY', 'SPECIAL CAMP \\nDAY 2\\n', 'SPECIAL \\nCAMP DAY 3', 'SPECIAL CAMP \\nDAY 4', 'SPECIAL CAMP DAY 5', 'SPECIAL CAMP DAY 6', 'SPECIAL CAMP DAY 7', 'CANCER EVENT', 'BLOOD DONATION', 'Unnamed: 32', 'Unnamed: 33', 'TOTAL', 'Miscellaneous\\nDOCUMENTATION', 'Miscellaneous\\nPHOTOGRAPHY', 'WEB DEVELOPMENT', 'POSTER', 'OTHER', 'Miscellaneous\\ntotal', 'TOTAL REGULAR ACTIVITIES', 'Unnamed: 42', 'Unnamed: 43']\n"
     ]
    }
   ],
   "source": [
    "print(\"Column names in the DataFrame:\", column_names)\n"
   ]
  },
  {
   "cell_type": "code",
   "execution_count": null,
   "metadata": {},
   "outputs": [],
   "source": []
  },
  {
   "cell_type": "code",
   "execution_count": 55,
   "metadata": {},
   "outputs": [
    {
     "name": "stdout",
     "output_type": "stream",
     "text": [
      "Column names in the DataFrame: ['S.NO', 'ROLL NUMBER', 'NAME', 'BRANCH', 'World Water Day', 'YOGA WEEK ONLINE AND \\nOFFLINE', 'FEED THE VOICELESS', 'INTERACTION WITH JUNIORS', 'BLOOD DONATION', 'ANNOUNCEMENT  OF NSS BODY MEMBERS', 'VANAMAHOSTAVAM', 'DISHA APP SENSITIZATION', 'ENERGY SWARAJ', 'AZADI KA\\nAMRITMAHOSTAV', 'BEACH CLEANUP DRIVE', 'KAILASGIRI (SWACHH BHARAT EVENT)', 'NSS FOUNDATION\\nDAY', 'RAILWAYSTATION CLEANING EVENT', 'COLLEGE SWACHH BHARAT', 'DIWALI EVENT', 'NMMS FORM FILLING EVENT', 'NATIONAL UNITY DAY', 'CANCER AWARNESS', 'DIGNITY  OF\\n LABOUR', 'PULAWAMA  \\nATTACK\\n', 'ROAD SAFETY\\n', 'MENSUTRAL\\n HYGIENE\\n', 'COLLEGE FEST ', 'TUBERCULOSIS \\nAWARENESS\\n', 'BUTTER MILK \\nSUPPLY\\n', 'AU CONVECTION\\n', 'SEMINAR ON WORLD ENVIRONMENT DAY', 'UBA REGISTRATION VISIT', ' INTERNATIONAL\\nYOGA DAY', 'MERI LIFE', 'WEBINAR ON ONE STUDENT ONE TREE', 'ORIENTATION AND AIMS\\r\\n AND OBJECTIVES OF UBA', 'AWARENESS ON \\nDRUG USAGE', '\\nMERI DESH MERI MAATI\\nPLANTATION EVENT', 'NBA VISIT', 'EK THAREEK\\n EK GHANTA EVENT', 'NSS FOUNDATION DAY', 'NSS DAY CAMPAIGN', 'SWACHH SARVEKSHAN \\nSURVEY\\n', 'WEB DEVELOPMENT', 'POSTER']\n",
      "All DataFrame results have been appended to all_results.txt\n"
     ]
    }
   ],
   "source": [
    "import pandas as pd\n",
    "\n",
    "# Read the CSV file into a DataFrame\n",
    "df = pd.read_csv(r\"C:\\Users\\gakan\\OneDrive\\Desktop\\Xcel Work\\_2021-2023 NSS Volunteers Attendance - Sheet1.csv\")\n",
    "\n",
    "# Get the list of column names\n",
    "column_names = df.columns.tolist()\n",
    "print(\"Column names in the DataFrame:\", column_names)\n",
    "\n",
    "# Essential columns\n",
    "essential_columns = ['S.NO', 'ROLL NUMBER', 'NAME', 'BRANCH']\n",
    "\n",
    "# Columns to be processed\n",
    "columns_req = [col for col in column_names if col not in essential_columns]\n",
    "\n",
    "# Open a text file in append mode to store all DataFrame contents\n",
    "output_file = 'all_results.txt'\n",
    "with open(output_file, 'a') as file:\n",
    "    # Process each column in columns_req\n",
    "    for col in columns_req:\n",
    "        # Check if the column exists in the DataFrame\n",
    "        if col in df.columns:\n",
    "            # Create a new DataFrame with essential columns and the current column\n",
    "            r = essential_columns + [col]\n",
    "            df1 = df[r]\n",
    "            \n",
    "            # Drop rows with NaN values and the current column\n",
    "            df_final = df1.dropna().drop(columns=[col])\n",
    "            \n",
    "            # Convert DataFrame to a string representation\n",
    "            df_str = df_final.to_string(index=False)\n",
    "            \n",
    "            # Write the DataFrame string representation to the text file\n",
    "            file.write(f\"Data for column '{col}':\\n\")\n",
    "            file.write(df_str + \"\\n\\n\")\n",
    "\n",
    "print(f\"All DataFrame results have been appended to {output_file}\")\n"
   ]
  },
  {
   "cell_type": "code",
   "execution_count": 59,
   "metadata": {},
   "outputs": [
    {
     "name": "stdout",
     "output_type": "stream",
     "text": [
      "Column names in the DataFrame: ['S.NO', 'Roll No', 'Name', 'Branch', 'DIGNITY  OF LABOUR\\n\\n\\n', 'PULAWAMA \\nATTACK\\n\\n', 'ROAD SAFETY\\n\\n\\n\\n', 'MENSUTRAL \\nHYGIENE\\n\\n', 'TUBERCULOSIS\\nAWARENESS\\n\\n', 'BUTTERMILK \\nSUPPLY\\n\\n', 'AU CONVECTION', 'SEMINAR ON WORLD\\nENVIRONMENT DAY\\n\\n', 'SEMINAR AND QUIZ ON \\nBIODIVERSITY AND GLOBAL \\nWARMING\\n\\n', 'INTERNATIONAL\\n DAY OF YOGA\\n\\n', 'SEMINAR ON ONE\\nSTUDENT ONE TREE\\n\\n', 'ORIENTATION AND AIMS\\n AND OBJECTIVES OF UBA', 'AWARENESS ON DRUG USAGE\\n', 'KAPULAPPADA PLANTATION EVENT', 'EK THAREEK EK GHANTA \\nEVENT', 'NSS Campaign', 'EVENT PLANING', 'NATIONAL FARMERS DAY', 'YOUTH DAY \\nCELEBRATIONS', 'SPECIAL \\nCAMP DAY 1\\nINAGURATION \\nAND SURVEY', 'SPECIAL CAMP \\nDAY 2\\n', 'SPECIAL \\nCAMP DAY 3', 'SPECIAL CAMP \\nDAY 4', 'SPECIAL CAMP DAY 5', 'SPECIAL CAMP DAY 6', 'SPECIAL CAMP DAY 7', 'CANCER EVENT', 'BLOOD DONATION', 'Unnamed: 32', 'Unnamed: 33', 'TOTAL', 'Miscellaneous\\nDOCUMENTATION', 'Miscellaneous\\nPHOTOGRAPHY', 'WEB DEVELOPMENT', 'POSTER', 'OTHER', 'Miscellaneous\\ntotal', 'TOTAL REGULAR ACTIVITIES', 'Unnamed: 42', 'Unnamed: 43']\n",
      "All DataFrame results have been appended to allewew_results.txt\n"
     ]
    }
   ],
   "source": [
    "import pandas as pd\n",
    "\n",
    "# Read the CSV file into a DataFrame\n",
    "df = pd.read_csv(r\"C:\\Users\\gakan\\OneDrive\\Desktop\\Xcel Work\\NSS ATTENDANCE LIST 2022-2024csv.csv\")\n",
    "\n",
    "# Get the list of column names\n",
    "column_names = df.columns.tolist()\n",
    "print(\"Column names in the DataFrame:\", column_names)\n",
    "\n",
    "# Essential columns\n",
    "essential_columns = ['S.NO', 'Roll No', 'Name', 'Branch']\n",
    "\n",
    "# Columns to be processed\n",
    "columns_req = [col for col in column_names if col not in essential_columns]\n",
    "\n",
    "# Open a text file in append mode to store all DataFrame contents\n",
    "output_file = 'allewew_results.txt'\n",
    "with open(output_file, 'a') as file:\n",
    "    # Process each column in columns_req\n",
    "    for col in columns_req:\n",
    "        # Check if the column exists in the DataFrame\n",
    "        if col in df.columns:\n",
    "            # Create a new DataFrame with essential columns and the current column\n",
    "            r = essential_columns + [col]\n",
    "            df1 = df[r]\n",
    "            \n",
    "            # Drop rows with NaN values and the current column\n",
    "            df_final = df1.dropna().drop(columns=[col])\n",
    "            \n",
    "            # Convert DataFrame to a string representation\n",
    "            df_str = df_final.to_string(index=False)\n",
    "            \n",
    "            # Write the DataFrame string representation to the text file\n",
    "            file.write(f\"'{col}':\\n\")\n",
    "            file.write(df_str + \"\\n\\n\")\n",
    "\n",
    "print(f\"All DataFrame results have been appended to {output_file}\")\n"
   ]
  },
  {
   "cell_type": "code",
   "execution_count": null,
   "metadata": {},
   "outputs": [],
   "source": []
  }
 ],
 "metadata": {
  "kernelspec": {
   "display_name": "Python 3",
   "language": "python",
   "name": "python3"
  },
  "language_info": {
   "codemirror_mode": {
    "name": "ipython",
    "version": 3
   },
   "file_extension": ".py",
   "mimetype": "text/x-python",
   "name": "python",
   "nbconvert_exporter": "python",
   "pygments_lexer": "ipython3",
   "version": "3.12.4"
  }
 },
 "nbformat": 4,
 "nbformat_minor": 2
}
